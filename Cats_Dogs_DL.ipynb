{
  "nbformat": 4,
  "nbformat_minor": 0,
  "metadata": {
    "colab": {
      "provenance": []
    },
    "kernelspec": {
      "name": "python3",
      "display_name": "Python 3"
    },
    "language_info": {
      "name": "python"
    }
  },
  "cells": [
    {
      "cell_type": "code",
      "execution_count": 103,
      "metadata": {
        "id": "RpMCBRonH1ry"
      },
      "outputs": [],
      "source": [
        "import cv2\n",
        "import numpy as np\n",
        "import pandas as pd\n",
        "import matplotlib.pyplot as plt\n",
        "\n",
        "import tensorflow as tf\n",
        "import tensorflow_datasets as tfds\n",
        "from tensorflow.keras import models, layers, optimizers\n",
        "from tensorflow.keras.preprocessing.image import ImageDataGenerator\n",
        "from tensorflow.keras.callbacks import ModelCheckpoint, EarlyStopping\n",
        "from google.colab.patches import cv2_imshow\n",
        "from tensorflow.keras.utils import to_categorical"
      ]
    },
    {
      "cell_type": "code",
      "source": [
        "# Set the batch size, number of epochs.\n",
        "batch_size = 32\n",
        "num_classes = 2\n",
        "epochs = 40\n",
        "num_predictions = 20"
      ],
      "metadata": {
        "id": "p1gWja_HImo3"
      },
      "execution_count": 81,
      "outputs": []
    },
    {
      "cell_type": "code",
      "source": [
        "# Load the Cats vs. Dogs dataset\n",
        "dataset, info = tfds.load('cats_vs_dogs', split=['train[:80%]', 'train[80%:]'], with_info=True, as_supervised=True)\n",
        "\n",
        "# Access the splits\n",
        "train_, test_ = dataset[0], dataset[1]\n",
        "print(info)"
      ],
      "metadata": {
        "colab": {
          "base_uri": "https://localhost:8080/"
        },
        "id": "piR6zdcSIpev",
        "outputId": "c0a4fef9-9524-4371-90ac-aeda9156f0cc"
      },
      "execution_count": 82,
      "outputs": [
        {
          "output_type": "stream",
          "name": "stdout",
          "text": [
            "tfds.core.DatasetInfo(\n",
            "    name='cats_vs_dogs',\n",
            "    full_name='cats_vs_dogs/4.0.1',\n",
            "    description=\"\"\"\n",
            "    A large set of images of cats and dogs. There are 1738 corrupted images that are dropped.\n",
            "    \"\"\",\n",
            "    homepage='https://www.microsoft.com/en-us/download/details.aspx?id=54765',\n",
            "    data_dir='/root/tensorflow_datasets/cats_vs_dogs/4.0.1',\n",
            "    file_format=tfrecord,\n",
            "    download_size=786.67 MiB,\n",
            "    dataset_size=1.04 GiB,\n",
            "    features=FeaturesDict({\n",
            "        'image': Image(shape=(None, None, 3), dtype=uint8),\n",
            "        'image/filename': Text(shape=(), dtype=string),\n",
            "        'label': ClassLabel(shape=(), dtype=int64, num_classes=2),\n",
            "    }),\n",
            "    supervised_keys=('image', 'label'),\n",
            "    disable_shuffling=False,\n",
            "    splits={\n",
            "        'train': <SplitInfo num_examples=23262, num_shards=16>,\n",
            "    },\n",
            "    citation=\"\"\"@Inproceedings (Conference){asirra-a-captcha-that-exploits-interest-aligned-manual-image-categorization,\n",
            "    author = {Elson, Jeremy and Douceur, John (JD) and Howell, Jon and Saul, Jared},\n",
            "    title = {Asirra: A CAPTCHA that Exploits Interest-Aligned Manual Image Categorization},\n",
            "    booktitle = {Proceedings of 14th ACM Conference on Computer and Communications Security (CCS)},\n",
            "    year = {2007},\n",
            "    month = {October},\n",
            "    publisher = {Association for Computing Machinery, Inc.},\n",
            "    url = {https://www.microsoft.com/en-us/research/publication/asirra-a-captcha-that-exploits-interest-aligned-manual-image-categorization/},\n",
            "    edition = {Proceedings of 14th ACM Conference on Computer and Communications Security (CCS)},\n",
            "    }\"\"\",\n",
            ")\n"
          ]
        }
      ]
    },
    {
      "cell_type": "code",
      "source": [
        "train_"
      ],
      "metadata": {
        "colab": {
          "base_uri": "https://localhost:8080/"
        },
        "id": "ZO7v-YvOMXk8",
        "outputId": "aab5def6-c710-4e25-983d-c1d55808c304"
      },
      "execution_count": 83,
      "outputs": [
        {
          "output_type": "execute_result",
          "data": {
            "text/plain": [
              "<_PrefetchDataset element_spec=(TensorSpec(shape=(None, None, 3), dtype=tf.uint8, name=None), TensorSpec(shape=(), dtype=tf.int64, name=None))>"
            ]
          },
          "metadata": {},
          "execution_count": 83
        }
      ]
    },
    {
      "cell_type": "code",
      "source": [
        "test_"
      ],
      "metadata": {
        "colab": {
          "base_uri": "https://localhost:8080/"
        },
        "id": "S9adDsyNMfkq",
        "outputId": "1249e883-093e-48a1-b4c1-dda9e072468f"
      },
      "execution_count": 84,
      "outputs": [
        {
          "output_type": "execute_result",
          "data": {
            "text/plain": [
              "<_PrefetchDataset element_spec=(TensorSpec(shape=(None, None, 3), dtype=tf.uint8, name=None), TensorSpec(shape=(), dtype=tf.int64, name=None))>"
            ]
          },
          "metadata": {},
          "execution_count": 84
        }
      ]
    },
    {
      "cell_type": "code",
      "source": [
        "# Print the number of images in each split\n",
        "num_train_images = info.splits['train[:80%]'].num_examples\n",
        "num_test_images = info.splits['train[80%:]'].num_examples\n",
        "num_images = info.splits['train'].num_examples\n",
        "print(f'Total Number of images in the dataset: {num_images}')\n",
        "print(f'Number of images in the training set: {num_train_images}')\n",
        "print(f'Number of images in the testing set: {num_test_images}')"
      ],
      "metadata": {
        "colab": {
          "base_uri": "https://localhost:8080/"
        },
        "id": "0JBPjvkzI3f-",
        "outputId": "b95337ea-25d8-49c8-fb94-59ff0b3b5a99"
      },
      "execution_count": 85,
      "outputs": [
        {
          "output_type": "stream",
          "name": "stdout",
          "text": [
            "Total Number of images in the dataset: 23262\n",
            "Number of images in the training set: 18610\n",
            "Number of images in the testing set: 4652\n"
          ]
        }
      ]
    },
    {
      "cell_type": "code",
      "source": [
        "# Function to resize images\n",
        "def resize_image(image, label, img_size=(32, 32)):\n",
        "    image = tf.image.resize(image, img_size)\n",
        "    return image, label\n",
        "\n",
        "# Apply resizing to the dataset\n",
        "img_size = (32, 32)\n",
        "train_ = train_.map(lambda image, label: resize_image(image, label, img_size))\n",
        "test_ = test_.map(lambda image, label: resize_image(image, label, img_size))\n"
      ],
      "metadata": {
        "id": "Fxjr1vobKZ8m"
      },
      "execution_count": 86,
      "outputs": []
    },
    {
      "cell_type": "code",
      "source": [
        "# Convert the dataset to NumPy arrays\n",
        "def dataset_to_numpy(ds):\n",
        "    images, labels = [], []\n",
        "    for image, label in ds:\n",
        "        images.append(image.numpy())\n",
        "        labels.append(label.numpy())\n",
        "    return np.array(images), np.array(labels)\n",
        "\n",
        "# Convert the entire datasets to NumPy arrays\n",
        "x_train, y_train = dataset_to_numpy(train_)\n",
        "x_test, y_test = dataset_to_numpy(test_)\n",
        "\n",
        "print(x_train.shape, y_train.shape)\n",
        "print(x_test.shape, y_test.shape)"
      ],
      "metadata": {
        "colab": {
          "base_uri": "https://localhost:8080/"
        },
        "id": "c5xJtXbLJQN9",
        "outputId": "dcfbddb2-19be-4ed8-94cb-57ee5f754cbb"
      },
      "execution_count": 87,
      "outputs": [
        {
          "output_type": "stream",
          "name": "stdout",
          "text": [
            "(18610, 32, 32, 3) (18610,)\n",
            "(4652, 32, 32, 3) (4652,)\n"
          ]
        }
      ]
    },
    {
      "cell_type": "code",
      "source": [
        "# Show one image from x_train\n",
        "plt.imshow(x_train[6].astype(\"uint8\"))\n",
        "plt.title(f\"Label: {y_train[6]}\")\n",
        "plt.axis('off')  # Hide axes\n",
        "plt.show()\n"
      ],
      "metadata": {
        "colab": {
          "base_uri": "https://localhost:8080/",
          "height": 428
        },
        "id": "xF68SJ-RJ1Fl",
        "outputId": "40de323e-d8d0-4523-e2de-7a1333710c8d"
      },
      "execution_count": 89,
      "outputs": [
        {
          "output_type": "display_data",
          "data": {
            "text/plain": [
              "<Figure size 640x480 with 1 Axes>"
            ],
            "image/png": "[encoded data removed]"
          },
          "metadata": {}
        }
      ]
    },
    {
      "cell_type": "code",
      "source": [
        "y_train = to_categorical(y_train, num_classes=2)\n",
        "y_test = to_categorical(y_test, num_classes=2)"
      ],
      "metadata": {
        "id": "07fmN06iOr_0"
      },
      "execution_count": 90,
      "outputs": []
    },
    {
      "cell_type": "code",
      "source": [
        "print(y_train.shape)\n",
        "print(y_test.shape)"
      ],
      "metadata": {
        "colab": {
          "base_uri": "https://localhost:8080/"
        },
        "id": "zInQtoySQH76",
        "outputId": "3f3084c7-be49-4db0-c36d-b8358c272f92"
      },
      "execution_count": 91,
      "outputs": [
        {
          "output_type": "stream",
          "name": "stdout",
          "text": [
            "(18610, 2)\n",
            "(4652, 2)\n"
          ]
        }
      ]
    },
    {
      "cell_type": "code",
      "source": [
        "y_train"
      ],
      "metadata": {
        "colab": {
          "base_uri": "https://localhost:8080/"
        },
        "id": "65UOzW_cQNaa",
        "outputId": "39ea09a6-25cd-4ef9-cfcb-4449c4610441"
      },
      "execution_count": 92,
      "outputs": [
        {
          "output_type": "execute_result",
          "data": {
            "text/plain": [
              "array([[0., 1.],\n",
              "       [0., 1.],\n",
              "       [0., 1.],\n",
              "       ...,\n",
              "       [1., 0.],\n",
              "       [0., 1.],\n",
              "       [1., 0.]], dtype=float32)"
            ]
          },
          "metadata": {},
          "execution_count": 92
        }
      ]
    },
    {
      "cell_type": "code",
      "source": [
        "# Set the CNN model\n",
        "\n",
        "batch_size = None\n",
        "\n",
        "model = models.Sequential()\n",
        "model.add(layers.Conv2D(32, (5, 5), padding='same', activation=\"relu\", input_shape=x_train.shape[1:]))\n",
        "model.add(layers.BatchNormalization())\n",
        "model.add(layers.MaxPooling2D((2, 2)))\n",
        "model.add(layers.Dropout(0.2))\n",
        "model.add(layers.Conv2D(64, (5, 5), padding='same', activation=\"relu\"))\n",
        "model.add(layers.BatchNormalization())\n",
        "model.add(layers.MaxPooling2D((2, 2)))\n",
        "model.add(layers.Dropout(0.3))\n",
        "model.add(layers.Conv2D(64, (3, 3), padding='same', activation=\"relu\"))\n",
        "model.add(layers.BatchNormalization())\n",
        "model.add(layers.MaxPooling2D((2, 2)))\n",
        "model.add(layers.Dropout(0.4))\n",
        "model.add(layers.Conv2D(64, (3, 3), padding='same', activation=\"relu\"))\n",
        "model.add(layers.BatchNormalization())\n",
        "model.add(layers.MaxPooling2D((2, 2)))\n",
        "model.add(layers.Dropout(0.5))\n",
        "\n",
        "model.add(layers.Flatten())\n",
        "model.add(layers.Dense(256, activation=\"relu\"))\n",
        "model.add(layers.Dropout(0.5))\n",
        "# softmax\n",
        "model.add(layers.Dense(2, activation=\"softmax\"))\n",
        "\n",
        "model.summary()"
      ],
      "metadata": {
        "colab": {
          "base_uri": "https://localhost:8080/"
        },
        "id": "e2S9_c7wQS9D",
        "outputId": "d419bd7c-c65a-4f05-e459-4e1cef4b5c27"
      },
      "execution_count": 93,
      "outputs": [
        {
          "output_type": "stream",
          "name": "stdout",
          "text": [
            "Model: \"sequential_3\"\n",
            "_________________________________________________________________\n",
            " Layer (type)                Output Shape              Param #   \n",
            "=================================================================\n",
            " conv2d_12 (Conv2D)          (None, 32, 32, 32)        2432      \n",
            "                                                                 \n",
            " batch_normalization_12 (Ba  (None, 32, 32, 32)        128       \n",
            " tchNormalization)                                               \n",
            "                                                                 \n",
            " max_pooling2d_12 (MaxPooli  (None, 16, 16, 32)        0         \n",
            " ng2D)                                                           \n",
            "                                                                 \n",
            " dropout_15 (Dropout)        (None, 16, 16, 32)        0         \n",
            "                                                                 \n",
            " conv2d_13 (Conv2D)          (None, 16, 16, 64)        51264     \n",
            "                                                                 \n",
            " batch_normalization_13 (Ba  (None, 16, 16, 64)        256       \n",
            " tchNormalization)                                               \n",
            "                                                                 \n",
            " max_pooling2d_13 (MaxPooli  (None, 8, 8, 64)          0         \n",
            " ng2D)                                                           \n",
            "                                                                 \n",
            " dropout_16 (Dropout)        (None, 8, 8, 64)          0         \n",
            "                                                                 \n",
            " conv2d_14 (Conv2D)          (None, 8, 8, 64)          36928     \n",
            "                                                                 \n",
            " batch_normalization_14 (Ba  (None, 8, 8, 64)          256       \n",
            " tchNormalization)                                               \n",
            "                                                                 \n",
            " max_pooling2d_14 (MaxPooli  (None, 4, 4, 64)          0         \n",
            " ng2D)                                                           \n",
            "                                                                 \n",
            " dropout_17 (Dropout)        (None, 4, 4, 64)          0         \n",
            "                                                                 \n",
            " conv2d_15 (Conv2D)          (None, 4, 4, 64)          36928     \n",
            "                                                                 \n",
            " batch_normalization_15 (Ba  (None, 4, 4, 64)          256       \n",
            " tchNormalization)                                               \n",
            "                                                                 \n",
            " max_pooling2d_15 (MaxPooli  (None, 2, 2, 64)          0         \n",
            " ng2D)                                                           \n",
            "                                                                 \n",
            " dropout_18 (Dropout)        (None, 2, 2, 64)          0         \n",
            "                                                                 \n",
            " flatten_3 (Flatten)         (None, 256)               0         \n",
            "                                                                 \n",
            " dense_6 (Dense)             (None, 256)               65792     \n",
            "                                                                 \n",
            " dropout_19 (Dropout)        (None, 256)               0         \n",
            "                                                                 \n",
            " dense_7 (Dense)             (None, 2)                 514       \n",
            "                                                                 \n",
            "=================================================================\n",
            "Total params: 194754 (760.76 KB)\n",
            "Trainable params: 194306 (759.01 KB)\n",
            "Non-trainable params: 448 (1.75 KB)\n",
            "_________________________________________________________________\n"
          ]
        }
      ]
    },
    {
      "cell_type": "code",
      "source": [
        "# initiate Adam optimizer\n",
        "opt = optimizers.Adam(learning_rate=0.001, beta_1=0.9, beta_2=0.999, epsilon=1e-08)"
      ],
      "metadata": {
        "id": "slu0cYgGRoM0"
      },
      "execution_count": 94,
      "outputs": []
    },
    {
      "cell_type": "code",
      "source": [
        "#train the model using RMSprop\n",
        "model.compile(loss='categorical_crossentropy',\n",
        "              optimizer=opt,\n",
        "              metrics=['accuracy'])"
      ],
      "metadata": {
        "id": "b9PqoRJSR684"
      },
      "execution_count": 95,
      "outputs": []
    },
    {
      "cell_type": "code",
      "source": [
        "x_train = x_train.astype('float32') # Conversion to float type from integer type.\n",
        "x_test = x_test.astype('float32')\n",
        "x_train /= 255.0 # Division by 255\n",
        "x_test /= 255.0"
      ],
      "metadata": {
        "id": "FGkB-jlCR9pF"
      },
      "execution_count": 96,
      "outputs": []
    },
    {
      "cell_type": "code",
      "source": [
        "#Adding Early stopping callback to the fit function is going to stop the training,\n",
        "#if the val_loss is not going to change even '0.001' for more than 10 continous epochs\n",
        "from tensorflow.keras.callbacks import ModelCheckpoint, EarlyStopping\n",
        "\n",
        "early_stopping = EarlyStopping(monitor='val_loss', min_delta=0.001, patience=10)\n",
        "\n",
        "#Adding Model Checkpoint callback to the fit function is going to save the weights whenever val_loss achieves a new low value.\n",
        "#Hence saving the best weights occurred during training\n",
        "\n",
        "model_checkpoint =  ModelCheckpoint('best_model.h5',\n",
        "                                                           monitor='val_loss',\n",
        "                                                           verbose=1,\n",
        "                                                           save_best_only=True,\n",
        "                                                           save_weights_only=True,\n",
        "                                                           mode='auto',\n",
        "                                                           period=1)"
      ],
      "metadata": {
        "colab": {
          "base_uri": "https://localhost:8080/"
        },
        "id": "7AbWf-rbSEWr",
        "outputId": "b10fc576-8970-44f9-a6cd-2a993bb7c667"
      },
      "execution_count": 97,
      "outputs": [
        {
          "output_type": "stream",
          "name": "stderr",
          "text": [
            "WARNING:tensorflow:`period` argument is deprecated. Please use `save_freq` to specify the frequency in number of batches seen.\n"
          ]
        }
      ]
    },
    {
      "cell_type": "code",
      "source": [
        "x_train = x_train.reshape(x_train.shape[0], 32, 32, 3)\n",
        "x_test = x_test.reshape(x_test.shape[0], 32, 32, 3)\n",
        "\n",
        "print(x_train.shape)\n",
        "print(x_test.shape)"
      ],
      "metadata": {
        "colab": {
          "base_uri": "https://localhost:8080/"
        },
        "id": "ZC7vgx6uSyGk",
        "outputId": "7d32e735-87ff-4426-efac-06df51d04523"
      },
      "execution_count": 98,
      "outputs": [
        {
          "output_type": "stream",
          "name": "stdout",
          "text": [
            "(18610, 32, 32, 3)\n",
            "(4652, 32, 32, 3)\n"
          ]
        }
      ]
    },
    {
      "cell_type": "code",
      "source": [
        "history = model.fit(x_train,\n",
        "                    y_train,\n",
        "                    batch_size=batch_size,\n",
        "                    epochs=100,\n",
        "                    validation_data=(x_test, y_test),\n",
        "                    shuffle=True,\n",
        "                    verbose=1,\n",
        "                    callbacks=[early_stopping,model_checkpoint])\n",
        "\n",
        "# plot training history\n",
        "plt.plot(history.history['loss'], label='train')\n",
        "plt.plot(history.history['val_loss'], label='test')\n",
        "plt.legend()\n",
        "plt.show()"
      ],
      "metadata": {
        "id": "Wqs5cJ4QS1dv",
        "colab": {
          "base_uri": "https://localhost:8080/",
          "height": 1000
        },
        "outputId": "8dd34c02-3fb3-44f7-ff05-2235766ba4bc"
      },
      "execution_count": 99,
      "outputs": [
        {
          "output_type": "stream",
          "name": "stdout",
          "text": [
            "Epoch 1/100\n",
            "582/582 [==============================] - ETA: 0s - loss: 0.7611 - accuracy: 0.5882\n",
            "Epoch 1: val_loss improved from inf to 1.11307, saving model to best_model.h5\n",
            "582/582 [==============================] - 117s 194ms/step - loss: 0.7611 - accuracy: 0.5882 - val_loss: 1.1131 - val_accuracy: 0.5604\n",
            "Epoch 2/100\n",
            "582/582 [==============================] - ETA: 0s - loss: 0.6305 - accuracy: 0.6475\n",
            "Epoch 2: val_loss improved from 1.11307 to 0.81006, saving model to best_model.h5\n",
            "582/582 [==============================] - 97s 167ms/step - loss: 0.6305 - accuracy: 0.6475 - val_loss: 0.8101 - val_accuracy: 0.5015\n",
            "Epoch 3/100\n",
            "582/582 [==============================] - ETA: 0s - loss: 0.6036 - accuracy: 0.6693\n",
            "Epoch 3: val_loss improved from 0.81006 to 0.63870, saving model to best_model.h5\n",
            "582/582 [==============================] - 97s 167ms/step - loss: 0.6036 - accuracy: 0.6693 - val_loss: 0.6387 - val_accuracy: 0.6707\n",
            "Epoch 4/100\n",
            "582/582 [==============================] - ETA: 0s - loss: 0.5751 - accuracy: 0.6987\n",
            "Epoch 4: val_loss improved from 0.63870 to 0.55674, saving model to best_model.h5\n",
            "582/582 [==============================] - 105s 181ms/step - loss: 0.5751 - accuracy: 0.6987 - val_loss: 0.5567 - val_accuracy: 0.7266\n",
            "Epoch 5/100\n",
            "582/582 [==============================] - ETA: 0s - loss: 0.5516 - accuracy: 0.7208\n",
            "Epoch 5: val_loss improved from 0.55674 to 0.55239, saving model to best_model.h5\n",
            "582/582 [==============================] - 96s 166ms/step - loss: 0.5516 - accuracy: 0.7208 - val_loss: 0.5524 - val_accuracy: 0.7092\n",
            "Epoch 6/100\n",
            "582/582 [==============================] - ETA: 0s - loss: 0.5258 - accuracy: 0.7369\n",
            "Epoch 6: val_loss improved from 0.55239 to 0.47957, saving model to best_model.h5\n",
            "582/582 [==============================] - 103s 178ms/step - loss: 0.5258 - accuracy: 0.7369 - val_loss: 0.4796 - val_accuracy: 0.7736\n",
            "Epoch 7/100\n",
            "582/582 [==============================] - ETA: 0s - loss: 0.5105 - accuracy: 0.7474\n",
            "Epoch 7: val_loss did not improve from 0.47957\n",
            "582/582 [==============================] - 101s 173ms/step - loss: 0.5105 - accuracy: 0.7474 - val_loss: 0.5055 - val_accuracy: 0.7592\n",
            "Epoch 8/100\n",
            "582/582 [==============================] - ETA: 0s - loss: 0.4904 - accuracy: 0.7670\n",
            "Epoch 8: val_loss improved from 0.47957 to 0.47810, saving model to best_model.h5\n",
            "582/582 [==============================] - 95s 164ms/step - loss: 0.4904 - accuracy: 0.7670 - val_loss: 0.4781 - val_accuracy: 0.7743\n",
            "Epoch 9/100\n",
            "582/582 [==============================] - ETA: 0s - loss: 0.4722 - accuracy: 0.7800\n",
            "Epoch 9: val_loss did not improve from 0.47810\n",
            "582/582 [==============================] - 100s 172ms/step - loss: 0.4722 - accuracy: 0.7800 - val_loss: 0.5765 - val_accuracy: 0.7139\n",
            "Epoch 10/100\n",
            "582/582 [==============================] - ETA: 0s - loss: 0.4600 - accuracy: 0.7832\n",
            "Epoch 10: val_loss improved from 0.47810 to 0.47615, saving model to best_model.h5\n",
            "582/582 [==============================] - 94s 162ms/step - loss: 0.4600 - accuracy: 0.7832 - val_loss: 0.4761 - val_accuracy: 0.7773\n",
            "Epoch 11/100\n",
            "582/582 [==============================] - ETA: 0s - loss: 0.4447 - accuracy: 0.7960\n",
            "Epoch 11: val_loss did not improve from 0.47615\n",
            "582/582 [==============================] - 98s 169ms/step - loss: 0.4447 - accuracy: 0.7960 - val_loss: 0.5069 - val_accuracy: 0.7524\n",
            "Epoch 12/100\n",
            "582/582 [==============================] - ETA: 0s - loss: 0.4336 - accuracy: 0.8013\n",
            "Epoch 12: val_loss improved from 0.47615 to 0.45117, saving model to best_model.h5\n",
            "582/582 [==============================] - 98s 169ms/step - loss: 0.4336 - accuracy: 0.8013 - val_loss: 0.4512 - val_accuracy: 0.8020\n",
            "Epoch 13/100\n",
            "582/582 [==============================] - ETA: 0s - loss: 0.4251 - accuracy: 0.8037\n",
            "Epoch 13: val_loss improved from 0.45117 to 0.43185, saving model to best_model.h5\n",
            "582/582 [==============================] - 95s 162ms/step - loss: 0.4251 - accuracy: 0.8037 - val_loss: 0.4318 - val_accuracy: 0.8014\n",
            "Epoch 14/100\n",
            "582/582 [==============================] - ETA: 0s - loss: 0.4116 - accuracy: 0.8119\n",
            "Epoch 14: val_loss did not improve from 0.43185\n",
            "582/582 [==============================] - 93s 160ms/step - loss: 0.4116 - accuracy: 0.8119 - val_loss: 0.6179 - val_accuracy: 0.7397\n",
            "Epoch 15/100\n",
            "582/582 [==============================] - ETA: 0s - loss: 0.4090 - accuracy: 0.8145\n",
            "Epoch 15: val_loss improved from 0.43185 to 0.42305, saving model to best_model.h5\n",
            "582/582 [==============================] - 98s 169ms/step - loss: 0.4090 - accuracy: 0.8145 - val_loss: 0.4231 - val_accuracy: 0.7984\n",
            "Epoch 16/100\n",
            "582/582 [==============================] - ETA: 0s - loss: 0.3901 - accuracy: 0.8257\n",
            "Epoch 16: val_loss did not improve from 0.42305\n",
            "582/582 [==============================] - 93s 160ms/step - loss: 0.3901 - accuracy: 0.8257 - val_loss: 0.4384 - val_accuracy: 0.8145\n",
            "Epoch 17/100\n",
            "582/582 [==============================] - ETA: 0s - loss: 0.3893 - accuracy: 0.8249\n",
            "Epoch 17: val_loss did not improve from 0.42305\n",
            "582/582 [==============================] - 99s 171ms/step - loss: 0.3893 - accuracy: 0.8249 - val_loss: 0.4572 - val_accuracy: 0.7954\n",
            "Epoch 18/100\n",
            "582/582 [==============================] - ETA: 0s - loss: 0.3834 - accuracy: 0.8319\n",
            "Epoch 18: val_loss improved from 0.42305 to 0.42301, saving model to best_model.h5\n",
            "582/582 [==============================] - 105s 181ms/step - loss: 0.3834 - accuracy: 0.8319 - val_loss: 0.4230 - val_accuracy: 0.8020\n",
            "Epoch 19/100\n",
            "582/582 [==============================] - ETA: 0s - loss: 0.3773 - accuracy: 0.8325\n",
            "Epoch 19: val_loss did not improve from 0.42301\n",
            "582/582 [==============================] - 99s 170ms/step - loss: 0.3773 - accuracy: 0.8325 - val_loss: 0.4265 - val_accuracy: 0.8106\n",
            "Epoch 20/100\n",
            "582/582 [==============================] - ETA: 0s - loss: 0.3690 - accuracy: 0.8355\n",
            "Epoch 20: val_loss did not improve from 0.42301\n",
            "582/582 [==============================] - 98s 168ms/step - loss: 0.3690 - accuracy: 0.8355 - val_loss: 0.4539 - val_accuracy: 0.7954\n",
            "Epoch 21/100\n",
            "582/582 [==============================] - ETA: 0s - loss: 0.3574 - accuracy: 0.8436\n",
            "Epoch 21: val_loss improved from 0.42301 to 0.38469, saving model to best_model.h5\n",
            "582/582 [==============================] - 100s 172ms/step - loss: 0.3574 - accuracy: 0.8436 - val_loss: 0.3847 - val_accuracy: 0.8218\n",
            "Epoch 22/100\n",
            "582/582 [==============================] - ETA: 0s - loss: 0.3529 - accuracy: 0.8409\n",
            "Epoch 22: val_loss did not improve from 0.38469\n",
            "582/582 [==============================] - 95s 164ms/step - loss: 0.3529 - accuracy: 0.8409 - val_loss: 0.4469 - val_accuracy: 0.8076\n",
            "Epoch 23/100\n",
            "582/582 [==============================] - ETA: 0s - loss: 0.3436 - accuracy: 0.8508\n",
            "Epoch 23: val_loss did not improve from 0.38469\n",
            "582/582 [==============================] - 97s 166ms/step - loss: 0.3436 - accuracy: 0.8508 - val_loss: 0.4665 - val_accuracy: 0.7962\n",
            "Epoch 24/100\n",
            "582/582 [==============================] - ETA: 0s - loss: 0.3395 - accuracy: 0.8495\n",
            "Epoch 24: val_loss did not improve from 0.38469\n",
            "582/582 [==============================] - 99s 171ms/step - loss: 0.3395 - accuracy: 0.8495 - val_loss: 0.4307 - val_accuracy: 0.8205\n",
            "Epoch 25/100\n",
            "582/582 [==============================] - ETA: 0s - loss: 0.3376 - accuracy: 0.8521\n",
            "Epoch 25: val_loss did not improve from 0.38469\n",
            "582/582 [==============================] - 93s 160ms/step - loss: 0.3376 - accuracy: 0.8521 - val_loss: 0.4476 - val_accuracy: 0.8104\n",
            "Epoch 26/100\n",
            "582/582 [==============================] - ETA: 0s - loss: 0.3285 - accuracy: 0.8578\n",
            "Epoch 26: val_loss did not improve from 0.38469\n",
            "582/582 [==============================] - 102s 175ms/step - loss: 0.3285 - accuracy: 0.8578 - val_loss: 0.4134 - val_accuracy: 0.8169\n",
            "Epoch 27/100\n",
            "582/582 [==============================] - ETA: 0s - loss: 0.3198 - accuracy: 0.8634\n",
            "Epoch 27: val_loss did not improve from 0.38469\n",
            "582/582 [==============================] - 96s 165ms/step - loss: 0.3198 - accuracy: 0.8634 - val_loss: 0.4258 - val_accuracy: 0.8108\n",
            "Epoch 28/100\n",
            "582/582 [==============================] - ETA: 0s - loss: 0.3193 - accuracy: 0.8632\n",
            "Epoch 28: val_loss improved from 0.38469 to 0.37626, saving model to best_model.h5\n",
            "582/582 [==============================] - 95s 163ms/step - loss: 0.3193 - accuracy: 0.8632 - val_loss: 0.3763 - val_accuracy: 0.8330\n",
            "Epoch 29/100\n",
            "582/582 [==============================] - ETA: 0s - loss: 0.3135 - accuracy: 0.8634\n",
            "Epoch 29: val_loss did not improve from 0.37626\n",
            "582/582 [==============================] - 98s 168ms/step - loss: 0.3135 - accuracy: 0.8634 - val_loss: 0.4911 - val_accuracy: 0.7717\n",
            "Epoch 30/100\n",
            "582/582 [==============================] - ETA: 0s - loss: 0.3106 - accuracy: 0.8670\n",
            "Epoch 30: val_loss did not improve from 0.37626\n",
            "582/582 [==============================] - 99s 170ms/step - loss: 0.3106 - accuracy: 0.8670 - val_loss: 0.3850 - val_accuracy: 0.8295\n",
            "Epoch 31/100\n",
            "582/582 [==============================] - ETA: 0s - loss: 0.2999 - accuracy: 0.8713\n",
            "Epoch 31: val_loss did not improve from 0.37626\n",
            "582/582 [==============================] - 96s 166ms/step - loss: 0.2999 - accuracy: 0.8713 - val_loss: 0.3830 - val_accuracy: 0.8298\n",
            "Epoch 32/100\n",
            "582/582 [==============================] - ETA: 0s - loss: 0.2987 - accuracy: 0.8715\n",
            "Epoch 32: val_loss did not improve from 0.37626\n",
            "582/582 [==============================] - 99s 170ms/step - loss: 0.2987 - accuracy: 0.8715 - val_loss: 0.4163 - val_accuracy: 0.8293\n",
            "Epoch 33/100\n",
            "582/582 [==============================] - ETA: 0s - loss: 0.2983 - accuracy: 0.8723\n",
            "Epoch 33: val_loss did not improve from 0.37626\n",
            "582/582 [==============================] - 106s 182ms/step - loss: 0.2983 - accuracy: 0.8723 - val_loss: 0.4001 - val_accuracy: 0.8298\n",
            "Epoch 34/100\n",
            "582/582 [==============================] - ETA: 0s - loss: 0.2893 - accuracy: 0.8761\n",
            "Epoch 34: val_loss did not improve from 0.37626\n",
            "582/582 [==============================] - 101s 173ms/step - loss: 0.2893 - accuracy: 0.8761 - val_loss: 0.4413 - val_accuracy: 0.8162\n",
            "Epoch 35/100\n",
            "582/582 [==============================] - ETA: 0s - loss: 0.2832 - accuracy: 0.8809\n",
            "Epoch 35: val_loss did not improve from 0.37626\n",
            "582/582 [==============================] - 100s 172ms/step - loss: 0.2832 - accuracy: 0.8809 - val_loss: 0.4054 - val_accuracy: 0.8248\n",
            "Epoch 36/100\n",
            "582/582 [==============================] - ETA: 0s - loss: 0.2856 - accuracy: 0.8771\n",
            "Epoch 36: val_loss did not improve from 0.37626\n",
            "582/582 [==============================] - 108s 186ms/step - loss: 0.2856 - accuracy: 0.8771 - val_loss: 0.4208 - val_accuracy: 0.8248\n",
            "Epoch 37/100\n",
            "582/582 [==============================] - ETA: 0s - loss: 0.2825 - accuracy: 0.8798\n",
            "Epoch 37: val_loss did not improve from 0.37626\n",
            "582/582 [==============================] - 108s 186ms/step - loss: 0.2825 - accuracy: 0.8798 - val_loss: 0.4306 - val_accuracy: 0.8319\n",
            "Epoch 38/100\n",
            "582/582 [==============================] - ETA: 0s - loss: 0.2786 - accuracy: 0.8828\n",
            "Epoch 38: val_loss did not improve from 0.37626\n",
            "582/582 [==============================] - 98s 168ms/step - loss: 0.2786 - accuracy: 0.8828 - val_loss: 0.3972 - val_accuracy: 0.8336\n"
          ]
        },
        {
          "output_type": "display_data",
          "data": {
            "text/plain": [
              "<Figure size 640x480 with 1 Axes>"
            ],
            "image/png": "[encoded data removed]"
          },
          "metadata": {}
        }
      ]
    },
    {
      "cell_type": "code",
      "source": [
        "# Score trained model.\n",
        "scores = model.evaluate(x_test, y_test, verbose=1)\n",
        "print('Test loss:', scores[0])\n",
        "print('Test accuracy:', scores[1])"
      ],
      "metadata": {
        "id": "Rexoi1RQTFgq",
        "colab": {
          "base_uri": "https://localhost:8080/"
        },
        "outputId": "af9036fb-260a-4b23-ac3d-9c3e535038cd"
      },
      "execution_count": 100,
      "outputs": [
        {
          "output_type": "stream",
          "name": "stdout",
          "text": [
            "146/146 [==============================] - 6s 38ms/step - loss: 0.3972 - accuracy: 0.8336\n",
            "Test loss: 0.39720022678375244\n",
            "Test accuracy: 0.8336199522018433\n"
          ]
        }
      ]
    },
    {
      "cell_type": "code",
      "source": [
        "predictions = model.predict(x_test)"
      ],
      "metadata": {
        "colab": {
          "base_uri": "https://localhost:8080/"
        },
        "id": "FOyyFjp0GvYG",
        "outputId": "c355d645-4f99-4787-d765-d10ce87b3647"
      },
      "execution_count": 101,
      "outputs": [
        {
          "output_type": "stream",
          "name": "stdout",
          "text": [
            "146/146 [==============================] - 6s 38ms/step\n"
          ]
        }
      ]
    },
    {
      "cell_type": "code",
      "source": [
        "preds = pd.DataFrame(predictions)\n",
        "preds"
      ],
      "metadata": {
        "colab": {
          "base_uri": "https://localhost:8080/",
          "height": 423
        },
        "id": "WHQ9vtvVgzJ_",
        "outputId": "9c8186e1-f29f-4202-e3c4-c03f350e0621"
      },
      "execution_count": 104,
      "outputs": [
        {
          "output_type": "execute_result",
          "data": {
            "text/plain": [
              "             0         1\n",
              "0     0.007542  0.992458\n",
              "1     0.360925  0.639075\n",
              "2     0.011239  0.988761\n",
              "3     0.020065  0.979935\n",
              "4     0.382230  0.617770\n",
              "...        ...       ...\n",
              "4647  0.995630  0.004370\n",
              "4648  0.012998  0.987002\n",
              "4649  0.639584  0.360416\n",
              "4650  0.171237  0.828763\n",
              "4651  0.986596  0.013404\n",
              "\n",
              "[4652 rows x 2 columns]"
            ],
            "text/html": [
              "\n",
              "  <div id=\"df-3ba635c9-4a00-43ed-8b50-d7e58a3caa81\" class=\"colab-df-container\">\n",
              "    <div>\n",
              "<style scoped>\n",
              "    .dataframe tbody tr th:only-of-type {\n",
              "        vertical-align: middle;\n",
              "    }\n",
              "\n",
              "    .dataframe tbody tr th {\n",
              "        vertical-align: top;\n",
              "    }\n",
              "\n",
              "    .dataframe thead th {\n",
              "        text-align: right;\n",
              "    }\n",
              "</style>\n",
              "<table border=\"1\" class=\"dataframe\">\n",
              "  <thead>\n",
              "    <tr style=\"text-align: right;\">\n",
              "      <th></th>\n",
              "      <th>0</th>\n",
              "      <th>1</th>\n",
              "    </tr>\n",
              "  </thead>\n",
              "  <tbody>\n",
              "    <tr>\n",
              "      <th>0</th>\n",
              "      <td>0.007542</td>\n",
              "      <td>0.992458</td>\n",
              "    </tr>\n",
              "    <tr>\n",
              "      <th>1</th>\n",
              "      <td>0.360925</td>\n",
              "      <td>0.639075</td>\n",
              "    </tr>\n",
              "    <tr>\n",
              "      <th>2</th>\n",
              "      <td>0.011239</td>\n",
              "      <td>0.988761</td>\n",
              "    </tr>\n",
              "    <tr>\n",
              "      <th>3</th>\n",
              "      <td>0.020065</td>\n",
              "      <td>0.979935</td>\n",
              "    </tr>\n",
              "    <tr>\n",
              "      <th>4</th>\n",
              "      <td>0.382230</td>\n",
              "      <td>0.617770</td>\n",
              "    </tr>\n",
              "    <tr>\n",
              "      <th>...</th>\n",
              "      <td>...</td>\n",
              "      <td>...</td>\n",
              "    </tr>\n",
              "    <tr>\n",
              "      <th>4647</th>\n",
              "      <td>0.995630</td>\n",
              "      <td>0.004370</td>\n",
              "    </tr>\n",
              "    <tr>\n",
              "      <th>4648</th>\n",
              "      <td>0.012998</td>\n",
              "      <td>0.987002</td>\n",
              "    </tr>\n",
              "    <tr>\n",
              "      <th>4649</th>\n",
              "      <td>0.639584</td>\n",
              "      <td>0.360416</td>\n",
              "    </tr>\n",
              "    <tr>\n",
              "      <th>4650</th>\n",
              "      <td>0.171237</td>\n",
              "      <td>0.828763</td>\n",
              "    </tr>\n",
              "    <tr>\n",
              "      <th>4651</th>\n",
              "      <td>0.986596</td>\n",
              "      <td>0.013404</td>\n",
              "    </tr>\n",
              "  </tbody>\n",
              "</table>\n",
              "<p>4652 rows × 2 columns</p>\n",
              "</div>\n",
              "    <div class=\"colab-df-buttons\">\n",
              "\n",
              "  <div class=\"colab-df-container\">\n",
              "    <button class=\"colab-df-convert\" onclick=\"convertToInteractive('df-3ba635c9-4a00-43ed-8b50-d7e58a3caa81')\"\n",
              "            title=\"Convert this dataframe to an interactive table.\"\n",
              "            style=\"display:none;\">\n",
              "\n",
              "  <svg xmlns=\"http://www.w3.org/2000/svg\" height=\"24px\" viewBox=\"0 -960 960 960\">\n",
              "    <path d=\"M120-120v-720h720v720H120Zm60-500h600v-160H180v160Zm220 220h160v-160H400v160Zm0 220h160v-160H400v160ZM180-400h160v-160H180v160Zm440 0h160v-160H620v160ZM180-180h160v-160H180v160Zm440 0h160v-160H620v160Z\"/>\n",
              "  </svg>\n",
              "    </button>\n",
              "\n",
              "  <style>\n",
              "    .colab-df-container {\n",
              "      display:flex;\n",
              "      gap: 12px;\n",
              "    }\n",
              "\n",
              "    .colab-df-convert {\n",
              "      background-color: #E8F0FE;\n",
              "      border: none;\n",
              "      border-radius: 50%;\n",
              "      cursor: pointer;\n",
              "      display: none;\n",
              "      fill: #1967D2;\n",
              "      height: 32px;\n",
              "      padding: 0 0 0 0;\n",
              "      width: 32px;\n",
              "    }\n",
              "\n",
              "    .colab-df-convert:hover {\n",
              "      background-color: #E2EBFA;\n",
              "      box-shadow: 0px 1px 2px rgba(60, 64, 67, 0.3), 0px 1px 3px 1px rgba(60, 64, 67, 0.15);\n",
              "      fill: #174EA6;\n",
              "    }\n",
              "\n",
              "    .colab-df-buttons div {\n",
              "      margin-bottom: 4px;\n",
              "    }\n",
              "\n",
              "    [theme=dark] .colab-df-convert {\n",
              "      background-color: #3B4455;\n",
              "      fill: #D2E3FC;\n",
              "    }\n",
              "\n",
              "    [theme=dark] .colab-df-convert:hover {\n",
              "      background-color: #434B5C;\n",
              "      box-shadow: 0px 1px 3px 1px rgba(0, 0, 0, 0.15);\n",
              "      filter: drop-shadow(0px 1px 2px rgba(0, 0, 0, 0.3));\n",
              "      fill: #FFFFFF;\n",
              "    }\n",
              "  </style>\n",
              "\n",
              "    <script>\n",
              "      const buttonEl =\n",
              "        document.querySelector('#df-3ba635c9-4a00-43ed-8b50-d7e58a3caa81 button.colab-df-convert');\n",
              "      buttonEl.style.display =\n",
              "        google.colab.kernel.accessAllowed ? 'block' : 'none';\n",
              "\n",
              "      async function convertToInteractive(key) {\n",
              "        const element = document.querySelector('#df-3ba635c9-4a00-43ed-8b50-d7e58a3caa81');\n",
              "        const dataTable =\n",
              "          await google.colab.kernel.invokeFunction('convertToInteractive',\n",
              "                                                    [key], {});\n",
              "        if (!dataTable) return;\n",
              "\n",
              "        const docLinkHtml = 'Like what you see? Visit the ' +\n",
              "          '<a target=\"_blank\" href=https://colab.research.google.com/notebooks/data_table.ipynb>data table notebook</a>'\n",
              "          + ' to learn more about interactive tables.';\n",
              "        element.innerHTML = '';\n",
              "        dataTable['output_type'] = 'display_data';\n",
              "        await google.colab.output.renderOutput(dataTable, element);\n",
              "        const docLink = document.createElement('div');\n",
              "        docLink.innerHTML = docLinkHtml;\n",
              "        element.appendChild(docLink);\n",
              "      }\n",
              "    </script>\n",
              "  </div>\n",
              "\n",
              "\n",
              "<div id=\"df-c6ec786e-ccba-4c6c-87cd-0c89e6fb2799\">\n",
              "  <button class=\"colab-df-quickchart\" onclick=\"quickchart('df-c6ec786e-ccba-4c6c-87cd-0c89e6fb2799')\"\n",
              "            title=\"Suggest charts\"\n",
              "            style=\"display:none;\">\n",
              "\n",
              "<svg xmlns=\"http://www.w3.org/2000/svg\" height=\"24px\"viewBox=\"0 0 24 24\"\n",
              "     width=\"24px\">\n",
              "    <g>\n",
              "        <path d=\"M19 3H5c-1.1 0-2 .9-2 2v14c0 1.1.9 2 2 2h14c1.1 0 2-.9 2-2V5c0-1.1-.9-2-2-2zM9 17H7v-7h2v7zm4 0h-2V7h2v10zm4 0h-2v-4h2v4z\"/>\n",
              "    </g>\n",
              "</svg>\n",
              "  </button>\n",
              "\n",
              "<style>\n",
              "  .colab-df-quickchart {\n",
              "      --bg-color: #E8F0FE;\n",
              "      --fill-color: #1967D2;\n",
              "      --hover-bg-color: #E2EBFA;\n",
              "      --hover-fill-color: #174EA6;\n",
              "      --disabled-fill-color: #AAA;\n",
              "      --disabled-bg-color: #DDD;\n",
              "  }\n",
              "\n",
              "  [theme=dark] .colab-df-quickchart {\n",
              "      --bg-color: #3B4455;\n",
              "      --fill-color: #D2E3FC;\n",
              "      --hover-bg-color: #434B5C;\n",
              "      --hover-fill-color: #FFFFFF;\n",
              "      --disabled-bg-color: #3B4455;\n",
              "      --disabled-fill-color: #666;\n",
              "  }\n",
              "\n",
              "  .colab-df-quickchart {\n",
              "    background-color: var(--bg-color);\n",
              "    border: none;\n",
              "    border-radius: 50%;\n",
              "    cursor: pointer;\n",
              "    display: none;\n",
              "    fill: var(--fill-color);\n",
              "    height: 32px;\n",
              "    padding: 0;\n",
              "    width: 32px;\n",
              "  }\n",
              "\n",
              "  .colab-df-quickchart:hover {\n",
              "    background-color: var(--hover-bg-color);\n",
              "    box-shadow: 0 1px 2px rgba(60, 64, 67, 0.3), 0 1px 3px 1px rgba(60, 64, 67, 0.15);\n",
              "    fill: var(--button-hover-fill-color);\n",
              "  }\n",
              "\n",
              "  .colab-df-quickchart-complete:disabled,\n",
              "  .colab-df-quickchart-complete:disabled:hover {\n",
              "    background-color: var(--disabled-bg-color);\n",
              "    fill: var(--disabled-fill-color);\n",
              "    box-shadow: none;\n",
              "  }\n",
              "\n",
              "  .colab-df-spinner {\n",
              "    border: 2px solid var(--fill-color);\n",
              "    border-color: transparent;\n",
              "    border-bottom-color: var(--fill-color);\n",
              "    animation:\n",
              "      spin 1s steps(1) infinite;\n",
              "  }\n",
              "\n",
              "  @keyframes spin {\n",
              "    0% {\n",
              "      border-color: transparent;\n",
              "      border-bottom-color: var(--fill-color);\n",
              "      border-left-color: var(--fill-color);\n",
              "    }\n",
              "    20% {\n",
              "      border-color: transparent;\n",
              "      border-left-color: var(--fill-color);\n",
              "      border-top-color: var(--fill-color);\n",
              "    }\n",
              "    30% {\n",
              "      border-color: transparent;\n",
              "      border-left-color: var(--fill-color);\n",
              "      border-top-color: var(--fill-color);\n",
              "      border-right-color: var(--fill-color);\n",
              "    }\n",
              "    40% {\n",
              "      border-color: transparent;\n",
              "      border-right-color: var(--fill-color);\n",
              "      border-top-color: var(--fill-color);\n",
              "    }\n",
              "    60% {\n",
              "      border-color: transparent;\n",
              "      border-right-color: var(--fill-color);\n",
              "    }\n",
              "    80% {\n",
              "      border-color: transparent;\n",
              "      border-right-color: var(--fill-color);\n",
              "      border-bottom-color: var(--fill-color);\n",
              "    }\n",
              "    90% {\n",
              "      border-color: transparent;\n",
              "      border-bottom-color: var(--fill-color);\n",
              "    }\n",
              "  }\n",
              "</style>\n",
              "\n",
              "  <script>\n",
              "    async function quickchart(key) {\n",
              "      const quickchartButtonEl =\n",
              "        document.querySelector('#' + key + ' button');\n",
              "      quickchartButtonEl.disabled = true;  // To prevent multiple clicks.\n",
              "      quickchartButtonEl.classList.add('colab-df-spinner');\n",
              "      try {\n",
              "        const charts = await google.colab.kernel.invokeFunction(\n",
              "            'suggestCharts', [key], {});\n",
              "      } catch (error) {\n",
              "        console.error('Error during call to suggestCharts:', error);\n",
              "      }\n",
              "      quickchartButtonEl.classList.remove('colab-df-spinner');\n",
              "      quickchartButtonEl.classList.add('colab-df-quickchart-complete');\n",
              "    }\n",
              "    (() => {\n",
              "      let quickchartButtonEl =\n",
              "        document.querySelector('#df-c6ec786e-ccba-4c6c-87cd-0c89e6fb2799 button');\n",
              "      quickchartButtonEl.style.display =\n",
              "        google.colab.kernel.accessAllowed ? 'block' : 'none';\n",
              "    })();\n",
              "  </script>\n",
              "</div>\n",
              "\n",
              "  <div id=\"id_c79c3aa6-142e-41fb-93e2-37d68e1d71cc\">\n",
              "    <style>\n",
              "      .colab-df-generate {\n",
              "        background-color: #E8F0FE;\n",
              "        border: none;\n",
              "        border-radius: 50%;\n",
              "        cursor: pointer;\n",
              "        display: none;\n",
              "        fill: #1967D2;\n",
              "        height: 32px;\n",
              "        padding: 0 0 0 0;\n",
              "        width: 32px;\n",
              "      }\n",
              "\n",
              "      .colab-df-generate:hover {\n",
              "        background-color: #E2EBFA;\n",
              "        box-shadow: 0px 1px 2px rgba(60, 64, 67, 0.3), 0px 1px 3px 1px rgba(60, 64, 67, 0.15);\n",
              "        fill: #174EA6;\n",
              "      }\n",
              "\n",
              "      [theme=dark] .colab-df-generate {\n",
              "        background-color: #3B4455;\n",
              "        fill: #D2E3FC;\n",
              "      }\n",
              "\n",
              "      [theme=dark] .colab-df-generate:hover {\n",
              "        background-color: #434B5C;\n",
              "        box-shadow: 0px 1px 3px 1px rgba(0, 0, 0, 0.15);\n",
              "        filter: drop-shadow(0px 1px 2px rgba(0, 0, 0, 0.3));\n",
              "        fill: #FFFFFF;\n",
              "      }\n",
              "    </style>\n",
              "    <button class=\"colab-df-generate\" onclick=\"generateWithVariable('preds')\"\n",
              "            title=\"Generate code using this dataframe.\"\n",
              "            style=\"display:none;\">\n",
              "\n",
              "  <svg xmlns=\"http://www.w3.org/2000/svg\" height=\"24px\"viewBox=\"0 0 24 24\"\n",
              "       width=\"24px\">\n",
              "    <path d=\"M7,19H8.4L18.45,9,17,7.55,7,17.6ZM5,21V16.75L18.45,3.32a2,2,0,0,1,2.83,0l1.4,1.43a1.91,1.91,0,0,1,.58,1.4,1.91,1.91,0,0,1-.58,1.4L9.25,21ZM18.45,9,17,7.55Zm-12,3A5.31,5.31,0,0,0,4.9,8.1,5.31,5.31,0,0,0,1,6.5,5.31,5.31,0,0,0,4.9,4.9,5.31,5.31,0,0,0,6.5,1,5.31,5.31,0,0,0,8.1,4.9,5.31,5.31,0,0,0,12,6.5,5.46,5.46,0,0,0,6.5,12Z\"/>\n",
              "  </svg>\n",
              "    </button>\n",
              "    <script>\n",
              "      (() => {\n",
              "      const buttonEl =\n",
              "        document.querySelector('#id_c79c3aa6-142e-41fb-93e2-37d68e1d71cc button.colab-df-generate');\n",
              "      buttonEl.style.display =\n",
              "        google.colab.kernel.accessAllowed ? 'block' : 'none';\n",
              "\n",
              "      buttonEl.onclick = () => {\n",
              "        google.colab.notebook.generateWithVariable('preds');\n",
              "      }\n",
              "      })();\n",
              "    </script>\n",
              "  </div>\n",
              "\n",
              "    </div>\n",
              "  </div>\n"
            ],
            "application/vnd.google.colaboratory.intrinsic+json": {
              "type": "dataframe",
              "variable_name": "preds",
              "summary": "{\n  \"name\": \"preds\",\n  \"rows\": 4652,\n  \"fields\": [\n    {\n      \"column\": 0,\n      \"properties\": {\n        \"dtype\": \"float32\",\n        \"num_unique_values\": 4644,\n        \"samples\": [\n          0.35943254828453064,\n          0.27903977036476135,\n          0.010133327916264534\n        ],\n        \"semantic_type\": \"\",\n        \"description\": \"\"\n      }\n    },\n    {\n      \"column\": 1,\n      \"properties\": {\n        \"dtype\": \"float32\",\n        \"num_unique_values\": 4645,\n        \"samples\": [\n          0.6405673623085022,\n          0.7209603190422058,\n          0.9898665547370911\n        ],\n        \"semantic_type\": \"\",\n        \"description\": \"\"\n      }\n    }\n  ]\n}"
            }
          },
          "metadata": {},
          "execution_count": 104
        }
      ]
    },
    {
      "cell_type": "code",
      "source": [
        "def preprocess_and_predict(image_path, model):\n",
        "    img = tf.keras.preprocessing.image.load_img(image_path, target_size=(32, 32))\n",
        "    img_array = tf.keras.preprocessing.image.img_to_array(img)\n",
        "    img_array = np.expand_dims(img_array, axis=0)  # Create batch axis\n",
        "    img_array /= 255.0  # Normalize the image\n",
        "\n",
        "    prediction = model.predict(img_array)\n",
        "    return prediction\n",
        "\n",
        "# Example usage:\n",
        "# Assuming 'new_image.jpg' is the path to a new image\n",
        "image_path = 'C://Users//ay152//Downloads//52.jpg'\n",
        "prediction = preprocess_and_predict(image_path, model)\n",
        "print(f'Prediction: {prediction}')"
      ],
      "metadata": {
        "id": "lccqJdRIkMHa"
      },
      "execution_count": null,
      "outputs": []
    }
  ]
}